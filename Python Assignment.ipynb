{
 "cells": [
  {
   "cell_type": "code",
   "execution_count": 28,
   "metadata": {},
   "outputs": [
    {
     "name": "stdout",
     "output_type": "stream",
     "text": [
      "Common elements in L1 and L2- ['b']\n",
      "Elements present in L1 but not in L2- ['a', 'c']\n"
     ]
    }
   ],
   "source": [
    "# 1. Given two lists L1 = ['a', 'b', 'c'], L2 = ['b', 'd'], find common elements, find elements present in L1 and not in L2?\n",
    "\n",
    "L1=['a','b','c']\n",
    "L2=['b','d']\n",
    "\n",
    "#Common elements\n",
    "print 'Common elements in L1 and L2-',list(set(L1).intersection(set(L2)))\n",
    "\n",
    "#Output of elements present in L1 and not in L2\n",
    "print 'Elements present in L1 but not in L2-',list(set(L1) - set(L2))"
   ]
  },
  {
   "cell_type": "code",
   "execution_count": 26,
   "metadata": {},
   "outputs": [
    {
     "name": "stdout",
     "output_type": "stream",
     "text": [
      "Number of Thursdays 522\n"
     ]
    }
   ],
   "source": [
    "# 2. Number of Thursdays\n",
    "from datetime import date,timedelta\n",
    "dt1=date(1990,1,1)\n",
    "dt2=date(2000,1,1)\n",
    "ndays=(dt2-dt1).days\n",
    "for i in range(7):\n",
    "    if (dt1+timedelta(days=i)).weekday()==3:\n",
    "        print 'Number of Thursdays',len(range(i,ndays,7))"
   ]
  }
 ],
 "metadata": {
  "kernelspec": {
   "display_name": "Python 2",
   "language": "python",
   "name": "python2"
  },
  "language_info": {
   "codemirror_mode": {
    "name": "ipython",
    "version": 2
   },
   "file_extension": ".py",
   "mimetype": "text/x-python",
   "name": "python",
   "nbconvert_exporter": "python",
   "pygments_lexer": "ipython2",
   "version": "2.7.14"
  }
 },
 "nbformat": 4,
 "nbformat_minor": 2
}

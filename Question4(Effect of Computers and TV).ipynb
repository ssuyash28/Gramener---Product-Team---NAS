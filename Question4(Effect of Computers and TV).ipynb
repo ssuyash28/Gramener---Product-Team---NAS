{
 "cells": [
  {
   "cell_type": "markdown",
   "metadata": {},
   "source": [
    "# Does hours spent on computer usage and tv really affects marks?"
   ]
  },
  {
   "cell_type": "code",
   "execution_count": 318,
   "metadata": {},
   "outputs": [
    {
     "data": {
      "text/html": [
       "<div>\n",
       "<style>\n",
       "    .dataframe thead tr:only-child th {\n",
       "        text-align: right;\n",
       "    }\n",
       "\n",
       "    .dataframe thead th {\n",
       "        text-align: left;\n",
       "    }\n",
       "\n",
       "    .dataframe tbody tr th {\n",
       "        vertical-align: top;\n",
       "    }\n",
       "</style>\n",
       "<table border=\"1\" class=\"dataframe\">\n",
       "  <thead>\n",
       "    <tr style=\"text-align: right;\">\n",
       "      <th></th>\n",
       "      <th>STUID</th>\n",
       "      <th>State</th>\n",
       "      <th>District</th>\n",
       "      <th>Gender</th>\n",
       "      <th>Age</th>\n",
       "      <th>Category</th>\n",
       "      <th>Same language</th>\n",
       "      <th>Siblings</th>\n",
       "      <th>Handicap</th>\n",
       "      <th>Father edu</th>\n",
       "      <th>...</th>\n",
       "      <th>Express science views</th>\n",
       "      <th>Watch TV</th>\n",
       "      <th>Read magazine</th>\n",
       "      <th>Read a book</th>\n",
       "      <th>Play games</th>\n",
       "      <th>Help in household</th>\n",
       "      <th>Maths %</th>\n",
       "      <th>Reading %</th>\n",
       "      <th>Science %</th>\n",
       "      <th>Social %</th>\n",
       "    </tr>\n",
       "  </thead>\n",
       "  <tbody>\n",
       "    <tr>\n",
       "      <th>0</th>\n",
       "      <td>11011001001</td>\n",
       "      <td>AP</td>\n",
       "      <td>1</td>\n",
       "      <td>1</td>\n",
       "      <td>3</td>\n",
       "      <td>3</td>\n",
       "      <td>1</td>\n",
       "      <td>5</td>\n",
       "      <td>2</td>\n",
       "      <td>1</td>\n",
       "      <td>...</td>\n",
       "      <td>3</td>\n",
       "      <td>3</td>\n",
       "      <td>4</td>\n",
       "      <td>3</td>\n",
       "      <td>4</td>\n",
       "      <td>4</td>\n",
       "      <td>20.37</td>\n",
       "      <td>NaN</td>\n",
       "      <td>27.78</td>\n",
       "      <td>NaN</td>\n",
       "    </tr>\n",
       "    <tr>\n",
       "      <th>1</th>\n",
       "      <td>11011001002</td>\n",
       "      <td>AP</td>\n",
       "      <td>1</td>\n",
       "      <td>2</td>\n",
       "      <td>3</td>\n",
       "      <td>4</td>\n",
       "      <td>2</td>\n",
       "      <td>5</td>\n",
       "      <td>2</td>\n",
       "      <td>2</td>\n",
       "      <td>...</td>\n",
       "      <td>3</td>\n",
       "      <td>4</td>\n",
       "      <td>4</td>\n",
       "      <td>3</td>\n",
       "      <td>4</td>\n",
       "      <td>4</td>\n",
       "      <td>12.96</td>\n",
       "      <td>NaN</td>\n",
       "      <td>38.18</td>\n",
       "      <td>NaN</td>\n",
       "    </tr>\n",
       "    <tr>\n",
       "      <th>2</th>\n",
       "      <td>11011001003</td>\n",
       "      <td>AP</td>\n",
       "      <td>1</td>\n",
       "      <td>2</td>\n",
       "      <td>3</td>\n",
       "      <td>4</td>\n",
       "      <td>2</td>\n",
       "      <td>5</td>\n",
       "      <td>2</td>\n",
       "      <td>1</td>\n",
       "      <td>...</td>\n",
       "      <td>3</td>\n",
       "      <td>4</td>\n",
       "      <td>3</td>\n",
       "      <td>3</td>\n",
       "      <td>4</td>\n",
       "      <td>4</td>\n",
       "      <td>27.78</td>\n",
       "      <td>70.00</td>\n",
       "      <td>NaN</td>\n",
       "      <td>NaN</td>\n",
       "    </tr>\n",
       "    <tr>\n",
       "      <th>3</th>\n",
       "      <td>11011001004</td>\n",
       "      <td>AP</td>\n",
       "      <td>1</td>\n",
       "      <td>2</td>\n",
       "      <td>3</td>\n",
       "      <td>3</td>\n",
       "      <td>2</td>\n",
       "      <td>4</td>\n",
       "      <td>2</td>\n",
       "      <td>1</td>\n",
       "      <td>...</td>\n",
       "      <td>3</td>\n",
       "      <td>4</td>\n",
       "      <td>3</td>\n",
       "      <td>3</td>\n",
       "      <td>4</td>\n",
       "      <td>4</td>\n",
       "      <td>NaN</td>\n",
       "      <td>56.67</td>\n",
       "      <td>NaN</td>\n",
       "      <td>36.00</td>\n",
       "    </tr>\n",
       "    <tr>\n",
       "      <th>4</th>\n",
       "      <td>11011001005</td>\n",
       "      <td>AP</td>\n",
       "      <td>1</td>\n",
       "      <td>2</td>\n",
       "      <td>3</td>\n",
       "      <td>3</td>\n",
       "      <td>2</td>\n",
       "      <td>5</td>\n",
       "      <td>2</td>\n",
       "      <td>1</td>\n",
       "      <td>...</td>\n",
       "      <td>3</td>\n",
       "      <td>2</td>\n",
       "      <td>3</td>\n",
       "      <td>3</td>\n",
       "      <td>4</td>\n",
       "      <td>4</td>\n",
       "      <td>NaN</td>\n",
       "      <td>NaN</td>\n",
       "      <td>14.55</td>\n",
       "      <td>8.33</td>\n",
       "    </tr>\n",
       "  </tbody>\n",
       "</table>\n",
       "<p>5 rows × 64 columns</p>\n",
       "</div>"
      ],
      "text/plain": [
       "         STUID State  District  Gender  Age  Category  Same language  \\\n",
       "0  11011001001    AP         1       1    3         3              1   \n",
       "1  11011001002    AP         1       2    3         4              2   \n",
       "2  11011001003    AP         1       2    3         4              2   \n",
       "3  11011001004    AP         1       2    3         3              2   \n",
       "4  11011001005    AP         1       2    3         3              2   \n",
       "\n",
       "   Siblings  Handicap  Father edu    ...     Express science views  Watch TV  \\\n",
       "0         5         2           1    ...                         3         3   \n",
       "1         5         2           2    ...                         3         4   \n",
       "2         5         2           1    ...                         3         4   \n",
       "3         4         2           1    ...                         3         4   \n",
       "4         5         2           1    ...                         3         2   \n",
       "\n",
       "   Read magazine  Read a book  Play games Help in household  Maths %  \\\n",
       "0              4            3           4                 4    20.37   \n",
       "1              4            3           4                 4    12.96   \n",
       "2              3            3           4                 4    27.78   \n",
       "3              3            3           4                 4      NaN   \n",
       "4              3            3           4                 4      NaN   \n",
       "\n",
       "   Reading %  Science %  Social %  \n",
       "0        NaN      27.78       NaN  \n",
       "1        NaN      38.18       NaN  \n",
       "2      70.00        NaN       NaN  \n",
       "3      56.67        NaN     36.00  \n",
       "4        NaN      14.55      8.33  \n",
       "\n",
       "[5 rows x 64 columns]"
      ]
     },
     "execution_count": 318,
     "metadata": {},
     "output_type": "execute_result"
    }
   ],
   "source": [
    "# Importing libraries\n",
    "import pandas as pd\n",
    "import matplotlib.pyplot as plt\n",
    "import numpy as np\n",
    "from scipy.stats import ttest_ind\n",
    "\n",
    "# Reading files\n",
    "marks= pd.read_csv('nas-pupil-marks.csv')\n",
    "labels= pd.read_csv('nas-labels.csv')\n",
    "\n",
    "marks.head()"
   ]
  },
  {
   "cell_type": "code",
   "execution_count": 317,
   "metadata": {},
   "outputs": [
    {
     "data": {
      "text/plain": [
       "<matplotlib.axes._subplots.AxesSubplot at 0x7fd9f0dfbd10>"
      ]
     },
     "execution_count": 317,
     "metadata": {},
     "output_type": "execute_result"
    },
    {
     "data": {
      "image/png": "[encoded data removed]",
      "text/plain": [
       "<matplotlib.figure.Figure at 0x7fd9f0cd50d0>"
      ]
     },
     "metadata": {},
     "output_type": "display_data"
    }
   ],
   "source": [
    "marks[['Computer use','Maths %','Reading %','Science %','Social %']].groupby(['Computer use']).mean()\n",
    "marks[['Computer use','Maths %','Reading %','Science %','Social %']].groupby(['Computer use']).mean().plot.barh(figsize=(20,10))"
   ]
  },
  {
   "cell_type": "raw",
   "metadata": {},
   "source": [
    "In the above graph it can be seen that in only maths performance of students who do not use computer is better than students who use computer whereas in Reading, trend is just opposite. Students who use computer outperform students who do not use computer in Reading."
   ]
  },
  {
   "cell_type": "code",
   "execution_count": 316,
   "metadata": {},
   "outputs": [
    {
     "data": {
      "text/plain": [
       "<matplotlib.axes._subplots.AxesSubplot at 0x7fd9f0f612d0>"
      ]
     },
     "execution_count": 316,
     "metadata": {},
     "output_type": "execute_result"
    },
    {
     "data": {
      "image/png": "[encoded data removed]",
      "text/plain": [
       "<matplotlib.figure.Figure at 0x7fda06774490>"
      ]
     },
     "metadata": {},
     "output_type": "display_data"
    }
   ],
   "source": [
    "marks[['Watch TV','Maths %','Reading %','Science %','Social %']].groupby(['Watch TV']).mean()\n",
    "marks[['Watch TV','Maths %','Reading %','Science %','Social %']].groupby(['Watch TV']).mean().plot.barh(figsize=(20,10))"
   ]
  },
  {
   "cell_type": "raw",
   "metadata": {},
   "source": [
    "Only in reading we see that students who watch TV perform better than students who do not watch TV. In rest of the subjects there is not effect."
   ]
  },
  {
   "cell_type": "code",
   "execution_count": 319,
   "metadata": {},
   "outputs": [
    {
     "data": {
      "text/html": [
       "<div>\n",
       "<style>\n",
       "    .dataframe thead tr:only-child th {\n",
       "        text-align: right;\n",
       "    }\n",
       "\n",
       "    .dataframe thead th {\n",
       "        text-align: left;\n",
       "    }\n",
       "\n",
       "    .dataframe tbody tr th {\n",
       "        vertical-align: top;\n",
       "    }\n",
       "</style>\n",
       "<table border=\"1\" class=\"dataframe\">\n",
       "  <thead>\n",
       "    <tr style=\"text-align: right;\">\n",
       "      <th></th>\n",
       "      <th>Computer use</th>\n",
       "      <th>Maths %</th>\n",
       "      <th>Reading %</th>\n",
       "      <th>Science %</th>\n",
       "      <th>Social %</th>\n",
       "    </tr>\n",
       "  </thead>\n",
       "  <tbody>\n",
       "    <tr>\n",
       "      <th>0</th>\n",
       "      <td>2</td>\n",
       "      <td>20.37</td>\n",
       "      <td>NaN</td>\n",
       "      <td>27.78</td>\n",
       "      <td>NaN</td>\n",
       "    </tr>\n",
       "    <tr>\n",
       "      <th>1</th>\n",
       "      <td>2</td>\n",
       "      <td>12.96</td>\n",
       "      <td>NaN</td>\n",
       "      <td>38.18</td>\n",
       "      <td>NaN</td>\n",
       "    </tr>\n",
       "    <tr>\n",
       "      <th>2</th>\n",
       "      <td>2</td>\n",
       "      <td>27.78</td>\n",
       "      <td>70.00</td>\n",
       "      <td>NaN</td>\n",
       "      <td>NaN</td>\n",
       "    </tr>\n",
       "    <tr>\n",
       "      <th>3</th>\n",
       "      <td>2</td>\n",
       "      <td>NaN</td>\n",
       "      <td>56.67</td>\n",
       "      <td>NaN</td>\n",
       "      <td>36.00</td>\n",
       "    </tr>\n",
       "    <tr>\n",
       "      <th>4</th>\n",
       "      <td>2</td>\n",
       "      <td>NaN</td>\n",
       "      <td>NaN</td>\n",
       "      <td>14.55</td>\n",
       "      <td>8.33</td>\n",
       "    </tr>\n",
       "  </tbody>\n",
       "</table>\n",
       "</div>"
      ],
      "text/plain": [
       "   Computer use  Maths %  Reading %  Science %  Social %\n",
       "0             2    20.37        NaN      27.78       NaN\n",
       "1             2    12.96        NaN      38.18       NaN\n",
       "2             2    27.78      70.00        NaN       NaN\n",
       "3             2      NaN      56.67        NaN     36.00\n",
       "4             2      NaN        NaN      14.55      8.33"
      ]
     },
     "execution_count": 319,
     "metadata": {},
     "output_type": "execute_result"
    }
   ],
   "source": [
    "marks_computer=marks[['Computer use','Maths %','Reading %','Science %','Social %']].copy()\n",
    "marks_computer.head()"
   ]
  },
  {
   "cell_type": "code",
   "execution_count": 303,
   "metadata": {},
   "outputs": [
    {
     "data": {
      "text/html": [
       "<div>\n",
       "<style>\n",
       "    .dataframe thead tr:only-child th {\n",
       "        text-align: right;\n",
       "    }\n",
       "\n",
       "    .dataframe thead th {\n",
       "        text-align: left;\n",
       "    }\n",
       "\n",
       "    .dataframe tbody tr th {\n",
       "        vertical-align: top;\n",
       "    }\n",
       "</style>\n",
       "<table border=\"1\" class=\"dataframe\">\n",
       "  <thead>\n",
       "    <tr style=\"text-align: right;\">\n",
       "      <th></th>\n",
       "      <th>Watch TV</th>\n",
       "      <th>Maths %</th>\n",
       "      <th>Reading %</th>\n",
       "      <th>Science %</th>\n",
       "      <th>Social %</th>\n",
       "    </tr>\n",
       "  </thead>\n",
       "  <tbody>\n",
       "    <tr>\n",
       "      <th>0</th>\n",
       "      <td>3</td>\n",
       "      <td>20.37</td>\n",
       "      <td>NaN</td>\n",
       "      <td>27.78</td>\n",
       "      <td>NaN</td>\n",
       "    </tr>\n",
       "    <tr>\n",
       "      <th>1</th>\n",
       "      <td>4</td>\n",
       "      <td>12.96</td>\n",
       "      <td>NaN</td>\n",
       "      <td>38.18</td>\n",
       "      <td>NaN</td>\n",
       "    </tr>\n",
       "    <tr>\n",
       "      <th>2</th>\n",
       "      <td>4</td>\n",
       "      <td>27.78</td>\n",
       "      <td>70.00</td>\n",
       "      <td>NaN</td>\n",
       "      <td>NaN</td>\n",
       "    </tr>\n",
       "    <tr>\n",
       "      <th>3</th>\n",
       "      <td>4</td>\n",
       "      <td>NaN</td>\n",
       "      <td>56.67</td>\n",
       "      <td>NaN</td>\n",
       "      <td>36.00</td>\n",
       "    </tr>\n",
       "    <tr>\n",
       "      <th>4</th>\n",
       "      <td>2</td>\n",
       "      <td>NaN</td>\n",
       "      <td>NaN</td>\n",
       "      <td>14.55</td>\n",
       "      <td>8.33</td>\n",
       "    </tr>\n",
       "  </tbody>\n",
       "</table>\n",
       "</div>"
      ],
      "text/plain": [
       "   Watch TV  Maths %  Reading %  Science %  Social %\n",
       "0         3    20.37        NaN      27.78       NaN\n",
       "1         4    12.96        NaN      38.18       NaN\n",
       "2         4    27.78      70.00        NaN       NaN\n",
       "3         4      NaN      56.67        NaN     36.00\n",
       "4         2      NaN        NaN      14.55      8.33"
      ]
     },
     "execution_count": 303,
     "metadata": {},
     "output_type": "execute_result"
    }
   ],
   "source": [
    "marks_tv=marks[['Watch TV','Maths %','Reading %','Science %','Social %']].copy()\n",
    "marks_tv.head()"
   ]
  },
  {
   "cell_type": "markdown",
   "metadata": {},
   "source": [
    "# Data Transformation\n",
    "Since t-test works only on normally distributed data and data available is skewed and does not have a normal distribution.\n",
    "So we need to transform our data before performing t-test.\n",
    "Boxcox transformation is the transformation widely used for transforming skewed distribution into a normal distribution\n",
    "\n",
    "##### For Social - lam=0.56\n",
    "##### For Reading - lam=0.92\n",
    "##### For Science - lam=0.58\n",
    "##### For Maths - lam=0.6"
   ]
  },
  {
   "cell_type": "code",
   "execution_count": 320,
   "metadata": {},
   "outputs": [
    {
     "data": {
      "image/png": "[encoded data removed]",
      "text/plain": [
       "<matplotlib.figure.Figure at 0x7fd016d30c10>"
      ]
     },
     "metadata": {},
     "output_type": "display_data"
    }
   ],
   "source": [
    "def boxcox(x,lam):\n",
    "    if lam == 0:\n",
    "        y = np.log10(x)\n",
    "    else:\n",
    "        y = ((x ** lam) - 1.) / lam\n",
    "    return y\n",
    "\n",
    "plt.hist(boxcox(Social_cu,0.56),bins=20)\n",
    "plt.show()"
   ]
  },
  {
   "cell_type": "code",
   "execution_count": 320,
   "metadata": {},
   "outputs": [],
   "source": [
    "no_computerusage=[1,2]\n",
    "computer_usage=[3,4,5]"
   ]
  },
  {
   "cell_type": "markdown",
   "metadata": {},
   "source": [
    "# Performing T-Test\n",
    "\n",
    "We are going perform t-test for checking whether usage of computer affects marks.\n",
    "\n",
    "###### Null Hypothesis- Marks of students using computer and Marks of students not using computer are nearly same.\n",
    "###### Alternate Hypothesis- Marks of students using computer and Marks of students not using computer are not nearly same.\n",
    "Significance Level- Here significance level will be very low as significance level should be set low if dataset is large and variance is small. - 10^-30"
   ]
  },
  {
   "cell_type": "code",
   "execution_count": 321,
   "metadata": {
    "scrolled": false
   },
   "outputs": [
    {
     "name": "stdout",
     "output_type": "stream",
     "text": [
      "Computer usage reduces marks\n"
     ]
    }
   ],
   "source": [
    "# Testing For Maths\n",
    "maths_ncu=marks_computer.loc[marks_computer['Computer use'].isin(no_computerusage),'Maths %'].copy()\n",
    "maths_ncu= maths_ncu.dropna()\n",
    "maths_cu=marks_computer.loc[marks_computer['Computer use'].isin(computer_usage),'Maths %'].copy()\n",
    "maths_cu= maths_cu.dropna()\n",
    "\n",
    "maths_cu=boxcox(maths_cu,0.56).dropna()\n",
    "maths_ncu=boxcox(maths_ncu,0.56).dropna()\n",
    "\n",
    "from scipy.stats import ttest_ind\n",
    "res=ttest_ind(maths_ncu,maths_cu)\n",
    "if res[1] < 10**(-30):\n",
    "    if res[0]<0:\n",
    "        print 'Computer usage improves marks'\n",
    "    else:\n",
    "        print 'Computer usage reduces marks'\n",
    "else:\n",
    "    print 'Computer usage does not have any effect on marks'"
   ]
  },
  {
   "cell_type": "code",
   "execution_count": 322,
   "metadata": {},
   "outputs": [
    {
     "name": "stdout",
     "output_type": "stream",
     "text": [
      "Computer usage does not have any effect on marks\n"
     ]
    }
   ],
   "source": [
    "# Testing For Science\n",
    "Science_ncu=marks_computer.loc[marks_computer['Computer use'].isin(no_computerusage),'Science %'].copy()\n",
    "Science_ncu= Science_ncu.dropna()\n",
    "Science_cu=marks_computer.loc[marks_computer['Computer use'].isin(computer_usage),'Science %'].copy()\n",
    "Science_cu= Science_cu.dropna()\n",
    "\n",
    "Science_cu=boxcox(Science_cu,0.58).dropna()\n",
    "Science_ncu=boxcox(Science_ncu,0.58).dropna()\n",
    "\n",
    "from scipy.stats import ttest_ind\n",
    "res=ttest_ind(Science_ncu,Science_cu)\n",
    "if res[1] < 10**(-30):\n",
    "    if res[0]<0:\n",
    "        print 'Computer usage improves marks'\n",
    "    else:\n",
    "        print 'Computer usage reduces marks'\n",
    "else:\n",
    "    print 'Computer usage does not have any effect on marks'"
   ]
  },
  {
   "cell_type": "code",
   "execution_count": 323,
   "metadata": {},
   "outputs": [
    {
     "name": "stdout",
     "output_type": "stream",
     "text": [
      "Computer usage does not have any effect on marks\n"
     ]
    }
   ],
   "source": [
    "# Testing For Social\n",
    "Social_ncu=marks_computer.loc[marks_computer['Computer use'].isin(no_computerusage),'Social %'].copy()\n",
    "Social_ncu= Social_ncu.dropna()\n",
    "Social_cu=marks_computer.loc[marks_computer['Computer use'].isin(computer_usage),'Social %'].copy()\n",
    "Social_cu= Social_cu.dropna()\n",
    "\n",
    "Social_cu=boxcox(Social_cu,0.6).dropna()\n",
    "Social_ncu=boxcox(Social_ncu,0.6).dropna()\n",
    "\n",
    "from scipy.stats import ttest_ind\n",
    "res=ttest_ind(Social_ncu,Social_cu)\n",
    "if res[1] < 10**(-30):\n",
    "    if res[0]<0:\n",
    "        print 'Computer usage improves marks'\n",
    "    else:\n",
    "        print 'Computer usage reduces marks'\n",
    "else:\n",
    "    print 'Computer usage does not have any effect on marks'"
   ]
  },
  {
   "cell_type": "code",
   "execution_count": 324,
   "metadata": {},
   "outputs": [
    {
     "name": "stdout",
     "output_type": "stream",
     "text": [
      "Computer usage improves marks\n"
     ]
    }
   ],
   "source": [
    "# Testing For Reading\n",
    "Reading_ncu=marks_computer.loc[marks_computer['Computer use'].isin(no_computerusage),'Reading %'].copy()\n",
    "Reading_ncu= Reading_ncu.dropna()\n",
    "Reading_cu=marks_computer.loc[marks_computer['Computer use'].isin(computer_usage),'Reading %'].copy()\n",
    "Reading_cu= Reading_cu.dropna()\n",
    "\n",
    "Reading_cu=boxcox(Reading_cu,0.92).dropna()\n",
    "Reading_ncu=boxcox(Reading_ncu,0.92).dropna()\n",
    "\n",
    "from scipy.stats import ttest_ind\n",
    "res=ttest_ind(Reading_ncu,Reading_cu)\n",
    "if res[1] < 10**(-30):\n",
    "    if res[0]<0:\n",
    "        print 'Computer usage improves marks'\n",
    "    else:\n",
    "        print 'Computer usage reduces marks'\n",
    "else:\n",
    "    print 'Computer usage does not have any effect on marks'"
   ]
  },
  {
   "cell_type": "markdown",
   "metadata": {},
   "source": [
    "# Watch TV\n",
    "In this section we will check whether watching TV actually affects marks?\n",
    "###### Null Hypothesis- Marks of students who watch TV and Marks of students who do not watch TV are nearly same.\n",
    "###### Alternate Hypothesis- Marks of students who watch TV and Marks of students who do not watch TV are not nearly same."
   ]
  },
  {
   "cell_type": "code",
   "execution_count": 343,
   "metadata": {},
   "outputs": [],
   "source": [
    "no_tv=[1]\n",
    "tv=[2,3,4]"
   ]
  },
  {
   "cell_type": "code",
   "execution_count": 412,
   "metadata": {},
   "outputs": [
    {
     "name": "stdout",
     "output_type": "stream",
     "text": [
      "Watching TV improves marks\n"
     ]
    }
   ],
   "source": [
    "# Testing For Reading\n",
    "Reading_ntv=marks_tv.loc[marks_tv['Watch TV'].isin(no_tv),'Reading %'].copy()\n",
    "Reading_ntv= Reading_ntv.dropna()\n",
    "Reading_tv=marks_tv.loc[marks_tv['Watch TV'].isin(tv),'Reading %'].copy()\n",
    "Reading_tv= Reading_tv.dropna()\n",
    "\n",
    "Reading_tv=boxcox(Reading_tv,0.92).dropna()\n",
    "Reading_ntv=boxcox(Reading_ntv,0.92).dropna()\n",
    "\n",
    "from scipy.stats import ttest_ind\n",
    "res=ttest_ind(Reading_ntv,Reading_tv)\n",
    "if res[1] < 10**(-30):\n",
    "    if res[0]<0:\n",
    "        print 'Watching TV improves marks'\n",
    "    else:\n",
    "        print 'Watching TV reduces marks'\n",
    "else:\n",
    "    print 'Watching TV does not have any effect on marks'"
   ]
  },
  {
   "cell_type": "code",
   "execution_count": 411,
   "metadata": {},
   "outputs": [
    {
     "name": "stdout",
     "output_type": "stream",
     "text": [
      "Watching TV does not have any effect on marks\n"
     ]
    }
   ],
   "source": [
    "# Testing For Maths\n",
    "Maths_ntv=marks_tv.loc[marks_tv['Watch TV'].isin(no_tv),'Maths %'].copy()\n",
    "Maths_ntv= Maths_ntv.dropna()\n",
    "Maths_tv=marks_tv.loc[marks_tv['Watch TV'].isin(tv),'Maths %'].copy()\n",
    "Maths_tv= Maths_tv.dropna()\n",
    "\n",
    "Maths_tv=boxcox(Maths_tv,0.46).dropna()\n",
    "Maths_ntv=boxcox(Maths_ntv,0.46).dropna()\n",
    "\n",
    "from scipy.stats import ttest_ind\n",
    "res=ttest_ind(Maths_ntv,Maths_tv)\n",
    "if res[1] < 10**(-30):\n",
    "    if res[0]<0:\n",
    "        print 'Watching TV improves marks'\n",
    "    else:\n",
    "        print 'Watching TV reduces marks'\n",
    "else:\n",
    "    print 'Watching TV does not have any effect on marks'"
   ]
  },
  {
   "cell_type": "code",
   "execution_count": 410,
   "metadata": {},
   "outputs": [
    {
     "name": "stdout",
     "output_type": "stream",
     "text": [
      "Watching TV does not have any effect on marks\n"
     ]
    }
   ],
   "source": [
    "# Testing For Science\n",
    "Science_ntv=marks_tv.loc[marks_tv['Watch TV'].isin(no_tv),'Science %'].copy()\n",
    "Science_ntv= Science_ntv.dropna()\n",
    "Science_tv=marks_tv.loc[marks_tv['Watch TV'].isin(tv),'Science %'].copy()\n",
    "Science_tv= Science_tv.dropna()\n",
    "\n",
    "Science_tv=boxcox(Science_tv,1.12).dropna()\n",
    "Science_ntv=boxcox(Science_ntv,1.12).dropna()\n",
    "\n",
    "from scipy.stats import ttest_ind\n",
    "res=ttest_ind(Science_ntv,Science_tv)\n",
    "if res[1] < 10**(-30):\n",
    "    if res[0]<0:\n",
    "        print 'Watching TV improves marks'\n",
    "    else:\n",
    "        print 'Watching TV reduces marks'\n",
    "else:\n",
    "    print 'Watching TV does not have any effect on marks'"
   ]
  },
  {
   "cell_type": "code",
   "execution_count": 409,
   "metadata": {},
   "outputs": [
    {
     "name": "stdout",
     "output_type": "stream",
     "text": [
      "Watching TV does not have any effect on marks\n"
     ]
    }
   ],
   "source": [
    "# Testing For Social\n",
    "Social_ntv=marks_tv.loc[marks_tv['Watch TV'].isin(no_tv),'Social %'].copy()\n",
    "Social_ntv= Social_ntv.dropna()\n",
    "Social_tv=marks_tv.loc[marks_tv['Watch TV'].isin(tv),'Social %'].copy()\n",
    "Social_tv= Social_tv.dropna()\n",
    "\n",
    "Social_tv=boxcox(Social_tv,1.2).dropna()\n",
    "Social_ntv=boxcox(Social_ntv,1.2).dropna()\n",
    "\n",
    "from scipy.stats import ttest_ind\n",
    "res=ttest_ind(Social_ntv,Social_tv)\n",
    "if res[1] < 10**(-30):\n",
    "    if res[0]<0:\n",
    "        print 'Watching TV improves marks'\n",
    "    else:\n",
    "        print 'Watching TV reduces marks'\n",
    "else:\n",
    "    print 'Watching TV does not have any effect on marks'"
   ]
  }
 ],
 "metadata": {
  "kernelspec": {
   "display_name": "Python 2",
   "language": "python",
   "name": "python2"
  },
  "language_info": {
   "codemirror_mode": {
    "name": "ipython",
    "version": 2
   },
   "file_extension": ".py",
   "mimetype": "text/x-python",
   "name": "python",
   "nbconvert_exporter": "python",
   "pygments_lexer": "ipython2",
   "version": "2.7.14"
  }
 },
 "nbformat": 4,
 "nbformat_minor": 2
}

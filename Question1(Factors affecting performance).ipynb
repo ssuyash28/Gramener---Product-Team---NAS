{
 "cells": [
  {
   "cell_type": "markdown",
   "metadata": {},
   "source": [
    "# Factors that influence performance\n",
    "#### Here we will investigate what influences performance of a class 8th student.\n",
    "#### For this we will create categories on basis of marks\n",
    "#### High scoring students(HSS) - 85+\n",
    "#### Good scoring students(GSS) - 70-85\n",
    "#### Average scoring students(ASS) - 55-70\n",
    "#### Below average scoring students(BASS) - 40-55\n",
    "#### Low scoring students(LSS) - <40"
   ]
  },
  {
   "cell_type": "code",
   "execution_count": 1,
   "metadata": {},
   "outputs": [],
   "source": [
    "# Importing libraries\n",
    "import pandas as pd\n",
    "import matplotlib.pyplot as plt\n",
    "import numpy as np"
   ]
  },
  {
   "cell_type": "code",
   "execution_count": 2,
   "metadata": {},
   "outputs": [],
   "source": [
    "# Reading files\n",
    "marks= pd.read_csv('nas-pupil-marks.csv')\n",
    "labels= pd.read_csv('nas-labels.csv')"
   ]
  },
  {
   "cell_type": "code",
   "execution_count": 3,
   "metadata": {},
   "outputs": [
    {
     "data": {
      "text/html": [
       "<div>\n",
       "<style>\n",
       "    .dataframe thead tr:only-child th {\n",
       "        text-align: right;\n",
       "    }\n",
       "\n",
       "    .dataframe thead th {\n",
       "        text-align: left;\n",
       "    }\n",
       "\n",
       "    .dataframe tbody tr th {\n",
       "        vertical-align: top;\n",
       "    }\n",
       "</style>\n",
       "<table border=\"1\" class=\"dataframe\">\n",
       "  <thead>\n",
       "    <tr style=\"text-align: right;\">\n",
       "      <th></th>\n",
       "      <th>STUID</th>\n",
       "      <th>State</th>\n",
       "      <th>District</th>\n",
       "      <th>Gender</th>\n",
       "      <th>Age</th>\n",
       "      <th>Category</th>\n",
       "      <th>Same language</th>\n",
       "      <th>Siblings</th>\n",
       "      <th>Handicap</th>\n",
       "      <th>Father edu</th>\n",
       "      <th>...</th>\n",
       "      <th>Express science views</th>\n",
       "      <th>Watch TV</th>\n",
       "      <th>Read magazine</th>\n",
       "      <th>Read a book</th>\n",
       "      <th>Play games</th>\n",
       "      <th>Help in household</th>\n",
       "      <th>Maths %</th>\n",
       "      <th>Reading %</th>\n",
       "      <th>Science %</th>\n",
       "      <th>Social %</th>\n",
       "    </tr>\n",
       "  </thead>\n",
       "  <tbody>\n",
       "    <tr>\n",
       "      <th>0</th>\n",
       "      <td>11011001001</td>\n",
       "      <td>AP</td>\n",
       "      <td>1</td>\n",
       "      <td>1</td>\n",
       "      <td>3</td>\n",
       "      <td>3</td>\n",
       "      <td>1</td>\n",
       "      <td>5</td>\n",
       "      <td>2</td>\n",
       "      <td>1</td>\n",
       "      <td>...</td>\n",
       "      <td>3</td>\n",
       "      <td>3</td>\n",
       "      <td>4</td>\n",
       "      <td>3</td>\n",
       "      <td>4</td>\n",
       "      <td>4</td>\n",
       "      <td>20.37</td>\n",
       "      <td>NaN</td>\n",
       "      <td>27.78</td>\n",
       "      <td>NaN</td>\n",
       "    </tr>\n",
       "    <tr>\n",
       "      <th>1</th>\n",
       "      <td>11011001002</td>\n",
       "      <td>AP</td>\n",
       "      <td>1</td>\n",
       "      <td>2</td>\n",
       "      <td>3</td>\n",
       "      <td>4</td>\n",
       "      <td>2</td>\n",
       "      <td>5</td>\n",
       "      <td>2</td>\n",
       "      <td>2</td>\n",
       "      <td>...</td>\n",
       "      <td>3</td>\n",
       "      <td>4</td>\n",
       "      <td>4</td>\n",
       "      <td>3</td>\n",
       "      <td>4</td>\n",
       "      <td>4</td>\n",
       "      <td>12.96</td>\n",
       "      <td>NaN</td>\n",
       "      <td>38.18</td>\n",
       "      <td>NaN</td>\n",
       "    </tr>\n",
       "    <tr>\n",
       "      <th>2</th>\n",
       "      <td>11011001003</td>\n",
       "      <td>AP</td>\n",
       "      <td>1</td>\n",
       "      <td>2</td>\n",
       "      <td>3</td>\n",
       "      <td>4</td>\n",
       "      <td>2</td>\n",
       "      <td>5</td>\n",
       "      <td>2</td>\n",
       "      <td>1</td>\n",
       "      <td>...</td>\n",
       "      <td>3</td>\n",
       "      <td>4</td>\n",
       "      <td>3</td>\n",
       "      <td>3</td>\n",
       "      <td>4</td>\n",
       "      <td>4</td>\n",
       "      <td>27.78</td>\n",
       "      <td>70.00</td>\n",
       "      <td>NaN</td>\n",
       "      <td>NaN</td>\n",
       "    </tr>\n",
       "    <tr>\n",
       "      <th>3</th>\n",
       "      <td>11011001004</td>\n",
       "      <td>AP</td>\n",
       "      <td>1</td>\n",
       "      <td>2</td>\n",
       "      <td>3</td>\n",
       "      <td>3</td>\n",
       "      <td>2</td>\n",
       "      <td>4</td>\n",
       "      <td>2</td>\n",
       "      <td>1</td>\n",
       "      <td>...</td>\n",
       "      <td>3</td>\n",
       "      <td>4</td>\n",
       "      <td>3</td>\n",
       "      <td>3</td>\n",
       "      <td>4</td>\n",
       "      <td>4</td>\n",
       "      <td>NaN</td>\n",
       "      <td>56.67</td>\n",
       "      <td>NaN</td>\n",
       "      <td>36.00</td>\n",
       "    </tr>\n",
       "    <tr>\n",
       "      <th>4</th>\n",
       "      <td>11011001005</td>\n",
       "      <td>AP</td>\n",
       "      <td>1</td>\n",
       "      <td>2</td>\n",
       "      <td>3</td>\n",
       "      <td>3</td>\n",
       "      <td>2</td>\n",
       "      <td>5</td>\n",
       "      <td>2</td>\n",
       "      <td>1</td>\n",
       "      <td>...</td>\n",
       "      <td>3</td>\n",
       "      <td>2</td>\n",
       "      <td>3</td>\n",
       "      <td>3</td>\n",
       "      <td>4</td>\n",
       "      <td>4</td>\n",
       "      <td>NaN</td>\n",
       "      <td>NaN</td>\n",
       "      <td>14.55</td>\n",
       "      <td>8.33</td>\n",
       "    </tr>\n",
       "  </tbody>\n",
       "</table>\n",
       "<p>5 rows × 64 columns</p>\n",
       "</div>"
      ],
      "text/plain": [
       "         STUID State  District  Gender  Age  Category  Same language  \\\n",
       "0  11011001001    AP         1       1    3         3              1   \n",
       "1  11011001002    AP         1       2    3         4              2   \n",
       "2  11011001003    AP         1       2    3         4              2   \n",
       "3  11011001004    AP         1       2    3         3              2   \n",
       "4  11011001005    AP         1       2    3         3              2   \n",
       "\n",
       "   Siblings  Handicap  Father edu    ...     Express science views  Watch TV  \\\n",
       "0         5         2           1    ...                         3         3   \n",
       "1         5         2           2    ...                         3         4   \n",
       "2         5         2           1    ...                         3         4   \n",
       "3         4         2           1    ...                         3         4   \n",
       "4         5         2           1    ...                         3         2   \n",
       "\n",
       "   Read magazine  Read a book  Play games Help in household  Maths %  \\\n",
       "0              4            3           4                 4    20.37   \n",
       "1              4            3           4                 4    12.96   \n",
       "2              3            3           4                 4    27.78   \n",
       "3              3            3           4                 4      NaN   \n",
       "4              3            3           4                 4      NaN   \n",
       "\n",
       "   Reading %  Science %  Social %  \n",
       "0        NaN      27.78       NaN  \n",
       "1        NaN      38.18       NaN  \n",
       "2      70.00        NaN       NaN  \n",
       "3      56.67        NaN     36.00  \n",
       "4        NaN      14.55      8.33  \n",
       "\n",
       "[5 rows x 64 columns]"
      ]
     },
     "execution_count": 3,
     "metadata": {},
     "output_type": "execute_result"
    }
   ],
   "source": [
    "marks.head()"
   ]
  },
  {
   "cell_type": "code",
   "execution_count": 4,
   "metadata": {},
   "outputs": [],
   "source": [
    "# Creates categories- HSS,GSS,ASS,BASS and LSS\n",
    "def categorize(subject):\n",
    "    mark=np.array(marks[subject])\n",
    "    categories=[]\n",
    "    for i in mark:\n",
    "        if i>=85:\n",
    "            categories.append('HSS')\n",
    "        elif (i>=70) and (i<85):\n",
    "            categories.append('GSS')\n",
    "        elif (i>=55) and (i<70):\n",
    "            categories.append('ASS')\n",
    "        elif (i>=40) and (i<55):\n",
    "            categories.append('BASS')\n",
    "        elif np.isnan(i):\n",
    "            categories.append('NaN')\n",
    "        else:\n",
    "            categories.append('LSS')\n",
    "    return categories"
   ]
  },
  {
   "cell_type": "code",
   "execution_count": 5,
   "metadata": {},
   "outputs": [
    {
     "data": {
      "image/png": "[encoded data removed]",
      "text/plain": [
       "<matplotlib.figure.Figure at 0x7f6a64c96310>"
      ]
     },
     "metadata": {},
     "output_type": "display_data"
    }
   ],
   "source": [
    "# Performance of students in Maths\n",
    "plt.barh(np.unique(categorize('Maths %'),return_counts=True)[0][:5],np.unique(categorize('Maths %'),return_counts=True)[1][:5])\n",
    "marks['Maths_cat']=categorize('Maths %')"
   ]
  },
  {
   "cell_type": "code",
   "execution_count": 6,
   "metadata": {},
   "outputs": [
    {
     "data": {
      "image/png": "[encoded data removed]",
      "text/plain": [
       "<matplotlib.figure.Figure at 0x7f6a38b4b450>"
      ]
     },
     "metadata": {},
     "output_type": "display_data"
    }
   ],
   "source": [
    "# Performance of students in Reading\n",
    "plt.barh(np.unique(categorize('Reading %'),return_counts=True)[0][:5],np.unique(categorize('Reading %'),return_counts=True)[1][:5])\n",
    "marks['Reading_cat']=categorize('Reading %')"
   ]
  },
  {
   "cell_type": "code",
   "execution_count": 7,
   "metadata": {},
   "outputs": [
    {
     "data": {
      "image/png": "[encoded data removed]",
      "text/plain": [
       "<matplotlib.figure.Figure at 0x7f6a301120d0>"
      ]
     },
     "metadata": {},
     "output_type": "display_data"
    }
   ],
   "source": [
    "# Performance of students in Science\n",
    "plt.barh(np.unique(categorize('Science %'),return_counts=True)[0][:5],np.unique(categorize('Science %'),return_counts=True)[1][:5])\n",
    "marks['Science_cat']=categorize('Science %')"
   ]
  },
  {
   "cell_type": "code",
   "execution_count": 8,
   "metadata": {},
   "outputs": [
    {
     "data": {
      "image/png": "[encoded data removed]",
      "text/plain": [
       "<matplotlib.figure.Figure at 0x7f6a3013ba10>"
      ]
     },
     "metadata": {},
     "output_type": "display_data"
    }
   ],
   "source": [
    "# Performance of students in Social\n",
    "plt.barh(np.unique(categorize('Social %'),return_counts=True)[0][:5],np.unique(categorize('Social %'),return_counts=True)[1][:5])\n",
    "marks['Social_cat']=categorize('Social %')"
   ]
  },
  {
   "cell_type": "code",
   "execution_count": 9,
   "metadata": {},
   "outputs": [
    {
     "name": "stderr",
     "output_type": "stream",
     "text": [
      "/home/suyash/anaconda2/lib/python2.7/site-packages/ipykernel_launcher.py:3: RuntimeWarning: invalid value encountered in double_scalars\n",
      "  This is separate from the ipykernel package so we can avoid doing imports until\n"
     ]
    },
    {
     "data": {
      "text/html": [
       "<div>\n",
       "<style>\n",
       "    .dataframe thead tr:only-child th {\n",
       "        text-align: right;\n",
       "    }\n",
       "\n",
       "    .dataframe thead th {\n",
       "        text-align: left;\n",
       "    }\n",
       "\n",
       "    .dataframe tbody tr th {\n",
       "        vertical-align: top;\n",
       "    }\n",
       "</style>\n",
       "<table border=\"1\" class=\"dataframe\">\n",
       "  <thead>\n",
       "    <tr style=\"text-align: right;\">\n",
       "      <th></th>\n",
       "      <th>STUID</th>\n",
       "      <th>State</th>\n",
       "      <th>District</th>\n",
       "      <th>Gender</th>\n",
       "      <th>Age</th>\n",
       "      <th>Category</th>\n",
       "      <th>Same language</th>\n",
       "      <th>Siblings</th>\n",
       "      <th>Handicap</th>\n",
       "      <th>Father edu</th>\n",
       "      <th>...</th>\n",
       "      <th>Help in household</th>\n",
       "      <th>Maths %</th>\n",
       "      <th>Reading %</th>\n",
       "      <th>Science %</th>\n",
       "      <th>Social %</th>\n",
       "      <th>Maths_cat</th>\n",
       "      <th>Reading_cat</th>\n",
       "      <th>Science_cat</th>\n",
       "      <th>Social_cat</th>\n",
       "      <th>Overall %</th>\n",
       "    </tr>\n",
       "  </thead>\n",
       "  <tbody>\n",
       "    <tr>\n",
       "      <th>0</th>\n",
       "      <td>11011001001</td>\n",
       "      <td>AP</td>\n",
       "      <td>1</td>\n",
       "      <td>1</td>\n",
       "      <td>3</td>\n",
       "      <td>3</td>\n",
       "      <td>1</td>\n",
       "      <td>5</td>\n",
       "      <td>2</td>\n",
       "      <td>1</td>\n",
       "      <td>...</td>\n",
       "      <td>4</td>\n",
       "      <td>20.37</td>\n",
       "      <td>NaN</td>\n",
       "      <td>27.78</td>\n",
       "      <td>NaN</td>\n",
       "      <td>LSS</td>\n",
       "      <td>NaN</td>\n",
       "      <td>LSS</td>\n",
       "      <td>NaN</td>\n",
       "      <td>24.075</td>\n",
       "    </tr>\n",
       "    <tr>\n",
       "      <th>1</th>\n",
       "      <td>11011001002</td>\n",
       "      <td>AP</td>\n",
       "      <td>1</td>\n",
       "      <td>2</td>\n",
       "      <td>3</td>\n",
       "      <td>4</td>\n",
       "      <td>2</td>\n",
       "      <td>5</td>\n",
       "      <td>2</td>\n",
       "      <td>2</td>\n",
       "      <td>...</td>\n",
       "      <td>4</td>\n",
       "      <td>12.96</td>\n",
       "      <td>NaN</td>\n",
       "      <td>38.18</td>\n",
       "      <td>NaN</td>\n",
       "      <td>LSS</td>\n",
       "      <td>NaN</td>\n",
       "      <td>LSS</td>\n",
       "      <td>NaN</td>\n",
       "      <td>25.570</td>\n",
       "    </tr>\n",
       "    <tr>\n",
       "      <th>2</th>\n",
       "      <td>11011001003</td>\n",
       "      <td>AP</td>\n",
       "      <td>1</td>\n",
       "      <td>2</td>\n",
       "      <td>3</td>\n",
       "      <td>4</td>\n",
       "      <td>2</td>\n",
       "      <td>5</td>\n",
       "      <td>2</td>\n",
       "      <td>1</td>\n",
       "      <td>...</td>\n",
       "      <td>4</td>\n",
       "      <td>27.78</td>\n",
       "      <td>70.00</td>\n",
       "      <td>NaN</td>\n",
       "      <td>NaN</td>\n",
       "      <td>LSS</td>\n",
       "      <td>GSS</td>\n",
       "      <td>NaN</td>\n",
       "      <td>NaN</td>\n",
       "      <td>48.890</td>\n",
       "    </tr>\n",
       "    <tr>\n",
       "      <th>3</th>\n",
       "      <td>11011001004</td>\n",
       "      <td>AP</td>\n",
       "      <td>1</td>\n",
       "      <td>2</td>\n",
       "      <td>3</td>\n",
       "      <td>3</td>\n",
       "      <td>2</td>\n",
       "      <td>4</td>\n",
       "      <td>2</td>\n",
       "      <td>1</td>\n",
       "      <td>...</td>\n",
       "      <td>4</td>\n",
       "      <td>NaN</td>\n",
       "      <td>56.67</td>\n",
       "      <td>NaN</td>\n",
       "      <td>36.00</td>\n",
       "      <td>NaN</td>\n",
       "      <td>ASS</td>\n",
       "      <td>NaN</td>\n",
       "      <td>LSS</td>\n",
       "      <td>46.335</td>\n",
       "    </tr>\n",
       "    <tr>\n",
       "      <th>4</th>\n",
       "      <td>11011001005</td>\n",
       "      <td>AP</td>\n",
       "      <td>1</td>\n",
       "      <td>2</td>\n",
       "      <td>3</td>\n",
       "      <td>3</td>\n",
       "      <td>2</td>\n",
       "      <td>5</td>\n",
       "      <td>2</td>\n",
       "      <td>1</td>\n",
       "      <td>...</td>\n",
       "      <td>4</td>\n",
       "      <td>NaN</td>\n",
       "      <td>NaN</td>\n",
       "      <td>14.55</td>\n",
       "      <td>8.33</td>\n",
       "      <td>NaN</td>\n",
       "      <td>NaN</td>\n",
       "      <td>LSS</td>\n",
       "      <td>LSS</td>\n",
       "      <td>11.440</td>\n",
       "    </tr>\n",
       "  </tbody>\n",
       "</table>\n",
       "<p>5 rows × 69 columns</p>\n",
       "</div>"
      ],
      "text/plain": [
       "         STUID State  District  Gender  Age  Category  Same language  \\\n",
       "0  11011001001    AP         1       1    3         3              1   \n",
       "1  11011001002    AP         1       2    3         4              2   \n",
       "2  11011001003    AP         1       2    3         4              2   \n",
       "3  11011001004    AP         1       2    3         3              2   \n",
       "4  11011001005    AP         1       2    3         3              2   \n",
       "\n",
       "   Siblings  Handicap  Father edu    ...      Help in household  Maths %  \\\n",
       "0         5         2           1    ...                      4    20.37   \n",
       "1         5         2           2    ...                      4    12.96   \n",
       "2         5         2           1    ...                      4    27.78   \n",
       "3         4         2           1    ...                      4      NaN   \n",
       "4         5         2           1    ...                      4      NaN   \n",
       "\n",
       "   Reading %  Science %  Social % Maths_cat  Reading_cat  Science_cat  \\\n",
       "0        NaN      27.78       NaN       LSS          NaN          LSS   \n",
       "1        NaN      38.18       NaN       LSS          NaN          LSS   \n",
       "2      70.00        NaN       NaN       LSS          GSS          NaN   \n",
       "3      56.67        NaN     36.00       NaN          ASS          NaN   \n",
       "4        NaN      14.55      8.33       NaN          NaN          LSS   \n",
       "\n",
       "   Social_cat  Overall %  \n",
       "0         NaN     24.075  \n",
       "1         NaN     25.570  \n",
       "2         NaN     48.890  \n",
       "3         LSS     46.335  \n",
       "4         LSS     11.440  \n",
       "\n",
       "[5 rows x 69 columns]"
      ]
     },
     "execution_count": 9,
     "metadata": {},
     "output_type": "execute_result"
    }
   ],
   "source": [
    "subjects=['Maths %','Reading %','Science %','Social %']\n",
    "overall=np.array(marks[subjects])\n",
    "marks['Overall %']=[np.nansum(m)/(4-len(m[np.isnan(m)])) for m in overall]\n",
    "marks.head()"
   ]
  },
  {
   "cell_type": "code",
   "execution_count": 10,
   "metadata": {},
   "outputs": [
    {
     "data": {
      "image/png": "[encoded data removed]",
      "text/plain": [
       "<matplotlib.figure.Figure at 0x7f6a64c96ed0>"
      ]
     },
     "metadata": {},
     "output_type": "display_data"
    }
   ],
   "source": [
    "# Overall Performance of students\n",
    "plt.barh(np.unique(categorize('Overall %'),return_counts=True)[0][:5],np.unique(categorize('Overall %'),return_counts=True)[1][:5])\n",
    "marks['Overall_cat']=categorize('Overall %')"
   ]
  },
  {
   "cell_type": "markdown",
   "metadata": {},
   "source": [
    "# Feature Creation\n",
    "Following features are created using existing features. Features like 'Maths is difficult', 'Conduct Experiments', 'Answer English Aloud' appear to be very important factors, but they didn't contribute much when considered alone. So such features were combined together to form new features.\n",
    "#### 'inE' - Interest in English\n",
    "#### 'inM' - Interest in Maths\n",
    "#### 'inSci' - Interest in Science\n",
    "#### 'inSo' - Interest in Social Science"
   ]
  },
  {
   "cell_type": "code",
   "execution_count": 11,
   "metadata": {
    "scrolled": true
   },
   "outputs": [
    {
     "data": {
      "text/plain": [
       "Maths %      2.290715\n",
       "Reading %    7.285156\n",
       "Science %    1.997004\n",
       "Social %     2.358157\n",
       "Overall %    3.029950\n",
       "dtype: float64"
      ]
     },
     "execution_count": 11,
     "metadata": {},
     "output_type": "execute_result"
    }
   ],
   "source": [
    "#Interest in English\n",
    "marks['inE']=(marks['Read English']+marks['Dictionary to learn']+marks['Answer English WB']+marks['Answer English aloud'])/marks['English is difficult']\n",
    "np.std(marks[['inE','Maths %','Reading %','Science %','Social %','Overall %']].groupby(['inE']).median())"
   ]
  },
  {
   "cell_type": "code",
   "execution_count": 12,
   "metadata": {},
   "outputs": [
    {
     "data": {
      "text/plain": [
       "Maths %      4.905857\n",
       "Reading %    8.045248\n",
       "Science %    3.384987\n",
       "Social %     4.199306\n",
       "Overall %    5.430159\n",
       "dtype: float64"
      ]
     },
     "execution_count": 12,
     "metadata": {},
     "output_type": "execute_result"
    }
   ],
   "source": [
    "#Interest in Maths\n",
    "marks['inM']=(marks['Solve Maths']+marks['Solve Maths in groups']+marks['Draw geometry'])+(marks['Give Math HW']/4)/marks['Maths is difficult']\n",
    "np.std(marks[['inM','Maths %','Reading %','Science %','Social %','Overall %']].groupby(['inM']).median())"
   ]
  },
  {
   "cell_type": "code",
   "execution_count": 13,
   "metadata": {},
   "outputs": [
    {
     "data": {
      "text/plain": [
       "Maths %      2.513451\n",
       "Reading %    7.741183\n",
       "Science %    4.005513\n",
       "Social %     3.691095\n",
       "Overall %    3.846218\n",
       "dtype: float64"
      ]
     },
     "execution_count": 13,
     "metadata": {},
     "output_type": "execute_result"
    }
   ],
   "source": [
    "#Interest in Science\n",
    "marks['inSci']=(marks['Solve science problems']+marks['Conduct experiments']+marks['Observe experiments']+marks['Express science views'])+(marks['Give Scie HW']/4)/marks['Science is difficult']\n",
    "np.std(marks[['inSci','Maths %','Reading %','Science %','Social %','Overall %']].groupby(['inSci']).median())"
   ]
  },
  {
   "cell_type": "code",
   "execution_count": 14,
   "metadata": {},
   "outputs": [
    {
     "data": {
      "text/plain": [
       "Maths %      2.477359\n",
       "Reading %    7.673653\n",
       "Science %    3.881019\n",
       "Social %     3.189216\n",
       "Overall %    3.734308\n",
       "dtype: float64"
      ]
     },
     "execution_count": 14,
     "metadata": {},
     "output_type": "execute_result"
    }
   ],
   "source": [
    "#Interest in Social Science\n",
    "marks['inSo']=(marks['Participate in SocSci']+marks['Express SocSci views']+marks['Small groups in SocSci']+marks['Historical excursions']+(marks['Give SoSc HW']/4))/marks['SocSci is difficult']\n",
    "np.std(marks[['inSo','Maths %','Reading %','Science %','Social %','Overall %']].groupby(['inSo']).median())"
   ]
  },
  {
   "cell_type": "code",
   "execution_count": 15,
   "metadata": {},
   "outputs": [],
   "source": [
    "cols=[u'State', u'Gender', u'Age', u'Category',\n",
    "       u'Same language', u'Siblings', u'Handicap', u'Father edu',\n",
    "       u'Mother edu', u'Father occupation', u'Mother occupation',\n",
    "       u'Below poverty', u'Use calculator', u'Use computer', u'Use Internet',\n",
    "       u'Use dictionary', u'Read other books', u'# Books', u'Distance',\n",
    "       u'Computer use', u'Library use', u'Like school', u'Subjects',\n",
    "       u'Give Lang HW', u'Give Math HW', u'Give Scie HW', u'Give SoSc HW',\n",
    "       u'Correct Lang HW', u'Correct Math HW', u'Correct Scie HW',\n",
    "       u'Correct SocS HW', u'Help in Study', u'Private tuition',\n",
    "       u'English is difficult', u'Read English', u'Dictionary to learn',\n",
    "       u'Answer English WB', u'Answer English aloud', u'Maths is difficult',\n",
    "       u'Solve Maths', u'Solve Maths in groups', u'Draw geometry',\n",
    "       u'Explain answers', u'SocSci is difficult', u'Historical excursions',\n",
    "       u'Participate in SocSci', u'Small groups in SocSci',\n",
    "       u'Express SocSci views', u'Science is difficult',\n",
    "       u'Observe experiments', u'Conduct experiments',\n",
    "       u'Solve science problems', u'Express science views', u'Watch TV',\n",
    "       u'Read magazine', u'Read a book', u'Play games', u'Help in household','inE','inM','inSci','inSo']\n",
    "subjects=['Maths %','Reading %','Science %','Social %','Overall %']"
   ]
  },
  {
   "cell_type": "markdown",
   "metadata": {},
   "source": [
    "# Calculating effect of each factor\n",
    "Output of the following shows how performance in each subject and overall changes under different situation.\n",
    "Each factor has multiple categories, and for each category median(as it can handle outliers) is calculated.\n",
    "For example- \n",
    "Factor 'Mother Edu' has 6 categories ranging from 0 to 5.\n",
    "So for each category i.e [0,1,2,3,4,5] median of the marks is calculated.\n",
    "Then the standard deviation is calculated for the whole factor which shows how much median changes for each factor thus revealing the impact the factor has on marks.\n",
    "Top 10 factors that affect performance are shown with the graphs with weight being the standard deviation."
   ]
  },
  {
   "cell_type": "code",
   "execution_count": 16,
   "metadata": {
    "scrolled": false
   },
   "outputs": [
    {
     "name": "stdout",
     "output_type": "stream",
     "text": [
      "Maths %\n"
     ]
    },
    {
     "data": {
      "image/png": "[encoded data removed]",
      "text/plain": [
       "<matplotlib.figure.Figure at 0x7f6a2ff8d490>"
      ]
     },
     "metadata": {},
     "output_type": "display_data"
    },
    {
     "name": "stdout",
     "output_type": "stream",
     "text": [
      "Reading %\n"
     ]
    },
    {
     "data": {
      "image/png": "[encoded data removed]",
      "text/plain": [
       "<matplotlib.figure.Figure at 0x7f6a2fee0dd0>"
      ]
     },
     "metadata": {},
     "output_type": "display_data"
    },
    {
     "name": "stdout",
     "output_type": "stream",
     "text": [
      "Science %\n"
     ]
    },
    {
     "data": {
      "image/png": "[encoded data removed]",
      "text/plain": [
       "<matplotlib.figure.Figure at 0x7f6a2fe70e10>"
      ]
     },
     "metadata": {},
     "output_type": "display_data"
    },
    {
     "name": "stdout",
     "output_type": "stream",
     "text": [
      "Social %\n"
     ]
    },
    {
     "data": {
      "image/png": "[encoded data removed]",
      "text/plain": [
       "<matplotlib.figure.Figure at 0x7f6a2fd8da50>"
      ]
     },
     "metadata": {},
     "output_type": "display_data"
    },
    {
     "name": "stdout",
     "output_type": "stream",
     "text": [
      "Overall %\n"
     ]
    },
    {
     "data": {
      "image/png": "[encoded data removed]",
      "text/plain": [
       "<matplotlib.figure.Figure at 0x7f6a2fd984d0>"
      ]
     },
     "metadata": {},
     "output_type": "display_data"
    }
   ],
   "source": [
    "df={}\n",
    "for i in cols:\n",
    "    df[i]=np.std(marks[[i,'Maths %','Reading %','Science %','Social %','Overall %']].groupby([i]).median())\n",
    "df=pd.DataFrame(df).transpose()\n",
    "\n",
    "for sub in subjects:\n",
    "    print sub\n",
    "    df=df.sort_values([sub],ascending=False)\n",
    "    df[:10][sub].plot.barh()\n",
    "    plt.show()\n"
   ]
  }
 ],
 "metadata": {
  "kernelspec": {
   "display_name": "Python 2",
   "language": "python",
   "name": "python2"
  },
  "language_info": {
   "codemirror_mode": {
    "name": "ipython",
    "version": 2
   },
   "file_extension": ".py",
   "mimetype": "text/x-python",
   "name": "python",
   "nbconvert_exporter": "python",
   "pygments_lexer": "ipython2",
   "version": "2.7.14"
  }
 },
 "nbformat": 4,
 "nbformat_minor": 2
}
